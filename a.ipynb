{
 "cells": [
  {
   "cell_type": "code",
   "execution_count": 6,
   "id": "f3df545f",
   "metadata": {},
   "outputs": [
    {
     "data": {
      "text/plain": [
       "144.75"
      ]
     },
     "execution_count": 6,
     "metadata": {},
     "output_type": "execute_result"
    }
   ],
   "source": [
    "(20.95+47.37+24.43+21.54+73.49+19.49+79.05+80+75.77)/2+8-(78.72+89.87)/2"
   ]
  },
  {
   "cell_type": "code",
   "execution_count": null,
   "id": "90163998",
   "metadata": {},
   "outputs": [],
   "source": []
  }
 ],
 "metadata": {
  "kernelspec": {
   "display_name": "base",
   "language": "python",
   "name": "python3"
  },
  "language_info": {
   "codemirror_mode": {
    "name": "ipython",
    "version": 3
   },
   "file_extension": ".py",
   "mimetype": "text/x-python",
   "name": "python",
   "nbconvert_exporter": "python",
   "pygments_lexer": "ipython3",
   "version": "3.12.11"
  }
 },
 "nbformat": 4,
 "nbformat_minor": 5
}
